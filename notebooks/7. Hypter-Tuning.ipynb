{
 "cells": [
  {
   "cell_type": "code",
   "execution_count": 1,
   "id": "94f8d6b1",
   "metadata": {},
   "outputs": [],
   "source": [
    "#importing the libraries\n",
    "import numpy as np\n",
    "import pandas as pd\n",
    "\n",
    "from sklearn.model_selection import train_test_split, cross_val_score"
   ]
  },
  {
   "cell_type": "code",
   "execution_count": 2,
   "id": "49301e4c",
   "metadata": {},
   "outputs": [],
   "source": [
    "#reading the dataset\n",
    "train_df = pd.read_csv(\"../data/train_folds.csv\")"
   ]
  },
  {
   "cell_type": "code",
   "execution_count": 3,
   "id": "6a7add81",
   "metadata": {},
   "outputs": [
    {
     "data": {
      "text/plain": [
       "(692, 15)"
      ]
     },
     "execution_count": 3,
     "metadata": {},
     "output_type": "execute_result"
    }
   ],
   "source": [
    "train_df.shape"
   ]
  },
  {
   "cell_type": "code",
   "execution_count": 4,
   "id": "690426ce",
   "metadata": {},
   "outputs": [
    {
     "data": {
      "text/html": [
       "<div>\n",
       "<style scoped>\n",
       "    .dataframe tbody tr th:only-of-type {\n",
       "        vertical-align: middle;\n",
       "    }\n",
       "\n",
       "    .dataframe tbody tr th {\n",
       "        vertical-align: top;\n",
       "    }\n",
       "\n",
       "    .dataframe thead th {\n",
       "        text-align: right;\n",
       "    }\n",
       "</style>\n",
       "<table border=\"1\" class=\"dataframe\">\n",
       "  <thead>\n",
       "    <tr style=\"text-align: right;\">\n",
       "      <th></th>\n",
       "      <th>Gender</th>\n",
       "      <th>Married</th>\n",
       "      <th>Dependents</th>\n",
       "      <th>Education</th>\n",
       "      <th>Self_Employed</th>\n",
       "      <th>LoanAmount</th>\n",
       "      <th>Loan_Amount_Term</th>\n",
       "      <th>Credit_History</th>\n",
       "      <th>Total_Income</th>\n",
       "      <th>Semiurban</th>\n",
       "      <th>Urban</th>\n",
       "      <th>Loan_Status</th>\n",
       "      <th>total_income_by_loanAmt</th>\n",
       "      <th>Loan_Amount_Term_By_amt</th>\n",
       "      <th>kfold</th>\n",
       "    </tr>\n",
       "  </thead>\n",
       "  <tbody>\n",
       "    <tr>\n",
       "      <th>0</th>\n",
       "      <td>1.0</td>\n",
       "      <td>1.0</td>\n",
       "      <td>0.000000</td>\n",
       "      <td>1.0</td>\n",
       "      <td>0.0</td>\n",
       "      <td>104.000000</td>\n",
       "      <td>360.000000</td>\n",
       "      <td>1.0</td>\n",
       "      <td>3819.000000</td>\n",
       "      <td>0.000000</td>\n",
       "      <td>1.0</td>\n",
       "      <td>1</td>\n",
       "      <td>1348.443140</td>\n",
       "      <td>0.288889</td>\n",
       "      <td>0</td>\n",
       "    </tr>\n",
       "    <tr>\n",
       "      <th>1</th>\n",
       "      <td>1.0</td>\n",
       "      <td>0.0</td>\n",
       "      <td>1.000000</td>\n",
       "      <td>1.0</td>\n",
       "      <td>0.0</td>\n",
       "      <td>117.000000</td>\n",
       "      <td>360.000000</td>\n",
       "      <td>1.0</td>\n",
       "      <td>6177.000000</td>\n",
       "      <td>0.000000</td>\n",
       "      <td>1.0</td>\n",
       "      <td>1</td>\n",
       "      <td>2787.298488</td>\n",
       "      <td>0.325000</td>\n",
       "      <td>0</td>\n",
       "    </tr>\n",
       "    <tr>\n",
       "      <th>2</th>\n",
       "      <td>1.0</td>\n",
       "      <td>1.0</td>\n",
       "      <td>2.419781</td>\n",
       "      <td>1.0</td>\n",
       "      <td>0.0</td>\n",
       "      <td>182.901096</td>\n",
       "      <td>334.813149</td>\n",
       "      <td>1.0</td>\n",
       "      <td>7142.630796</td>\n",
       "      <td>0.419781</td>\n",
       "      <td>0.0</td>\n",
       "      <td>0</td>\n",
       "      <td>1525.048970</td>\n",
       "      <td>0.546278</td>\n",
       "      <td>0</td>\n",
       "    </tr>\n",
       "    <tr>\n",
       "      <th>3</th>\n",
       "      <td>1.0</td>\n",
       "      <td>1.0</td>\n",
       "      <td>0.000000</td>\n",
       "      <td>1.0</td>\n",
       "      <td>0.0</td>\n",
       "      <td>143.701687</td>\n",
       "      <td>228.983805</td>\n",
       "      <td>0.0</td>\n",
       "      <td>7818.452295</td>\n",
       "      <td>0.000000</td>\n",
       "      <td>0.0</td>\n",
       "      <td>0</td>\n",
       "      <td>2960.178157</td>\n",
       "      <td>0.627563</td>\n",
       "      <td>0</td>\n",
       "    </tr>\n",
       "    <tr>\n",
       "      <th>4</th>\n",
       "      <td>1.0</td>\n",
       "      <td>1.0</td>\n",
       "      <td>0.000000</td>\n",
       "      <td>1.0</td>\n",
       "      <td>0.0</td>\n",
       "      <td>100.000000</td>\n",
       "      <td>360.000000</td>\n",
       "      <td>1.0</td>\n",
       "      <td>3539.000000</td>\n",
       "      <td>0.000000</td>\n",
       "      <td>1.0</td>\n",
       "      <td>1</td>\n",
       "      <td>1252.452100</td>\n",
       "      <td>0.277778</td>\n",
       "      <td>0</td>\n",
       "    </tr>\n",
       "  </tbody>\n",
       "</table>\n",
       "</div>"
      ],
      "text/plain": [
       "   Gender  Married  Dependents  Education  Self_Employed  LoanAmount  \\\n",
       "0     1.0      1.0    0.000000        1.0            0.0  104.000000   \n",
       "1     1.0      0.0    1.000000        1.0            0.0  117.000000   \n",
       "2     1.0      1.0    2.419781        1.0            0.0  182.901096   \n",
       "3     1.0      1.0    0.000000        1.0            0.0  143.701687   \n",
       "4     1.0      1.0    0.000000        1.0            0.0  100.000000   \n",
       "\n",
       "   Loan_Amount_Term  Credit_History  Total_Income  Semiurban  Urban  \\\n",
       "0        360.000000             1.0   3819.000000   0.000000    1.0   \n",
       "1        360.000000             1.0   6177.000000   0.000000    1.0   \n",
       "2        334.813149             1.0   7142.630796   0.419781    0.0   \n",
       "3        228.983805             0.0   7818.452295   0.000000    0.0   \n",
       "4        360.000000             1.0   3539.000000   0.000000    1.0   \n",
       "\n",
       "   Loan_Status  total_income_by_loanAmt  Loan_Amount_Term_By_amt  kfold  \n",
       "0            1              1348.443140                 0.288889      0  \n",
       "1            1              2787.298488                 0.325000      0  \n",
       "2            0              1525.048970                 0.546278      0  \n",
       "3            0              2960.178157                 0.627563      0  \n",
       "4            1              1252.452100                 0.277778      0  "
      ]
     },
     "execution_count": 4,
     "metadata": {},
     "output_type": "execute_result"
    }
   ],
   "source": [
    "train_df.head()"
   ]
  },
  {
   "cell_type": "code",
   "execution_count": 5,
   "id": "6df124cc",
   "metadata": {},
   "outputs": [],
   "source": [
    "X = train_df.drop([\"Loan_Status\", \"kfold\"], axis=1).values\n",
    "y = train_df[\"Loan_Status\"].values"
   ]
  },
  {
   "cell_type": "code",
   "execution_count": 6,
   "id": "bacd0fd3",
   "metadata": {},
   "outputs": [],
   "source": [
    "from sklearn.metrics import accuracy_score, roc_auc_score"
   ]
  },
  {
   "cell_type": "code",
   "execution_count": 7,
   "id": "59100000",
   "metadata": {},
   "outputs": [],
   "source": [
    "#importing the models\n",
    "from sklearn.ensemble import RandomForestClassifier\n",
    "from catboost import CatBoostClassifier"
   ]
  },
  {
   "cell_type": "markdown",
   "id": "6ffe4550",
   "metadata": {},
   "source": [
    "## HyperTuning"
   ]
  },
  {
   "cell_type": "code",
   "execution_count": 8,
   "id": "805facf9",
   "metadata": {},
   "outputs": [],
   "source": [
    "from sklearn.model_selection import RandomizedSearchCV, GridSearchCV"
   ]
  },
  {
   "cell_type": "markdown",
   "id": "7ef3ef84",
   "metadata": {},
   "source": [
    "### Random Forest Hypertuning"
   ]
  },
  {
   "cell_type": "code",
   "execution_count": 9,
   "id": "5db826fc",
   "metadata": {},
   "outputs": [
    {
     "data": {
      "text/plain": [
       "{'n_estimators': [None, 100, 200, 300, 400, 500, 600, 700, 800, 900, 1000],\n",
       " 'max_depth': [None, 20, 22, 24, 26, 28, 30, 32, 34, 36, 38],\n",
       " 'criterion': ['gini', 'entropy'],\n",
       " 'min_samples_split': array([1, 2, 3, 4, 5]),\n",
       " 'min_samples_leaf': array([1, 2, 3, 4])}"
      ]
     },
     "execution_count": 9,
     "metadata": {},
     "output_type": "execute_result"
    }
   ],
   "source": [
    "rf_params = {\"n_estimators\": [None] + list(range(100,1001, 100)),\n",
    "    \"max_depth\":[None] + list(range(20, 40, 2)),\n",
    "    \"criterion\":[\"gini\", \"entropy\"],\n",
    "    \"min_samples_split\" : np.arange(1,6),\n",
    "    \"min_samples_leaf\" : np.arange(1,5)\n",
    "    }\n",
    "rf_params"
   ]
  },
  {
   "cell_type": "code",
   "execution_count": 10,
   "id": "f6bd966e",
   "metadata": {},
   "outputs": [],
   "source": [
    "rndm_srch = RandomizedSearchCV(RandomForestClassifier(),param_distributions=rf_params, scoring=\"accuracy\", n_jobs=-1,\n",
    "                              cv=5, verbose=10, random_state=42)"
   ]
  },
  {
   "cell_type": "code",
   "execution_count": 11,
   "id": "ecf6e351",
   "metadata": {},
   "outputs": [
    {
     "name": "stdout",
     "output_type": "stream",
     "text": [
      "Fitting 5 folds for each of 10 candidates, totalling 50 fits\n"
     ]
    },
    {
     "name": "stderr",
     "output_type": "stream",
     "text": [
      "C:\\Users\\MOHAN\\anaconda3\\lib\\site-packages\\sklearn\\model_selection\\_search.py:918: UserWarning: One or more of the test scores are non-finite: [0.84544886 0.85987905 0.85556251 0.85700136 0.8584402  0.86566573\n",
      " 0.8627776         nan 0.85123553 0.85702221]\n",
      "  warnings.warn(\n"
     ]
    },
    {
     "data": {
      "text/plain": [
       "RandomizedSearchCV(cv=5, estimator=RandomForestClassifier(), n_jobs=-1,\n",
       "                   param_distributions={'criterion': ['gini', 'entropy'],\n",
       "                                        'max_depth': [None, 20, 22, 24, 26, 28,\n",
       "                                                      30, 32, 34, 36, 38],\n",
       "                                        'min_samples_leaf': array([1, 2, 3, 4]),\n",
       "                                        'min_samples_split': array([1, 2, 3, 4, 5]),\n",
       "                                        'n_estimators': [None, 100, 200, 300,\n",
       "                                                         400, 500, 600, 700,\n",
       "                                                         800, 900, 1000]},\n",
       "                   random_state=42, scoring='accuracy', verbose=10)"
      ]
     },
     "execution_count": 11,
     "metadata": {},
     "output_type": "execute_result"
    }
   ],
   "source": [
    "rndm_srch.fit(X, y)"
   ]
  },
  {
   "cell_type": "code",
   "execution_count": 12,
   "id": "033f46e0",
   "metadata": {},
   "outputs": [
    {
     "data": {
      "text/plain": [
       "0.8656657282869358"
      ]
     },
     "execution_count": 12,
     "metadata": {},
     "output_type": "execute_result"
    }
   ],
   "source": [
    "rndm_srch.best_score_"
   ]
  },
  {
   "cell_type": "code",
   "execution_count": 13,
   "id": "569a27c7",
   "metadata": {},
   "outputs": [
    {
     "data": {
      "text/plain": [
       "{'n_estimators': 100,\n",
       " 'min_samples_split': 4,\n",
       " 'min_samples_leaf': 3,\n",
       " 'max_depth': 26,\n",
       " 'criterion': 'entropy'}"
      ]
     },
     "execution_count": 13,
     "metadata": {},
     "output_type": "execute_result"
    }
   ],
   "source": [
    "rndm_srch.best_params_"
   ]
  },
  {
   "cell_type": "code",
   "execution_count": 14,
   "id": "0f832e09",
   "metadata": {},
   "outputs": [
    {
     "data": {
      "text/plain": [
       "{'n_estimators': [None, 100, 200, 300, 400, 500, 600, 700, 800, 900, 1000],\n",
       " 'max_depth': [None, 25, 27, 29, 31, 33, 35, 37, 39, 41, 43, 45, 47, 49],\n",
       " 'criterion': ['gini', 'entropy'],\n",
       " 'min_samples_split': array([2, 3, 4, 5, 6, 7]),\n",
       " 'min_samples_leaf': array([1, 2, 3, 4])}"
      ]
     },
     "execution_count": 14,
     "metadata": {},
     "output_type": "execute_result"
    }
   ],
   "source": [
    "rf_params = {\"n_estimators\": [None] + list(range(100,1001, 100)),\n",
    "    \"max_depth\":[None] + list(range(25, 50, 2)),\n",
    "    \"criterion\":[\"gini\", \"entropy\"],\n",
    "    \"min_samples_split\" : np.arange(2,8),\n",
    "    \"min_samples_leaf\" : np.arange(1,5)\n",
    "    }\n",
    "rf_params"
   ]
  },
  {
   "cell_type": "code",
   "execution_count": 15,
   "id": "92503f5e",
   "metadata": {},
   "outputs": [],
   "source": [
    "rndm_srch = RandomizedSearchCV(RandomForestClassifier(),param_distributions=rf_params, scoring=\"accuracy\", n_jobs=-1,\n",
    "                              cv=5, verbose=10, random_state=42)"
   ]
  },
  {
   "cell_type": "code",
   "execution_count": 16,
   "id": "5828bfe2",
   "metadata": {},
   "outputs": [
    {
     "name": "stdout",
     "output_type": "stream",
     "text": [
      "Fitting 5 folds for each of 10 candidates, totalling 50 fits\n"
     ]
    },
    {
     "name": "stderr",
     "output_type": "stream",
     "text": [
      "C:\\Users\\MOHAN\\anaconda3\\lib\\site-packages\\sklearn\\model_selection\\_search.py:918: UserWarning: One or more of the test scores are non-finite: [0.85123553 0.84979668        nan 0.84550099 0.85269524 0.86135961\n",
      " 0.84401001 0.85124596 0.85415494 0.84402044]\n",
      "  warnings.warn(\n"
     ]
    },
    {
     "data": {
      "text/plain": [
       "RandomizedSearchCV(cv=5, estimator=RandomForestClassifier(), n_jobs=-1,\n",
       "                   param_distributions={'criterion': ['gini', 'entropy'],\n",
       "                                        'max_depth': [None, 25, 27, 29, 31, 33,\n",
       "                                                      35, 37, 39, 41, 43, 45,\n",
       "                                                      47, 49],\n",
       "                                        'min_samples_leaf': array([1, 2, 3, 4]),\n",
       "                                        'min_samples_split': array([2, 3, 4, 5, 6, 7]),\n",
       "                                        'n_estimators': [None, 100, 200, 300,\n",
       "                                                         400, 500, 600, 700,\n",
       "                                                         800, 900, 1000]},\n",
       "                   random_state=42, scoring='accuracy', verbose=10)"
      ]
     },
     "execution_count": 16,
     "metadata": {},
     "output_type": "execute_result"
    }
   ],
   "source": [
    "rndm_srch.fit(X, y)"
   ]
  },
  {
   "cell_type": "code",
   "execution_count": 17,
   "id": "ba606e83",
   "metadata": {},
   "outputs": [
    {
     "data": {
      "text/plain": [
       "0.8613596079658012"
      ]
     },
     "execution_count": 17,
     "metadata": {},
     "output_type": "execute_result"
    }
   ],
   "source": [
    "rndm_srch.best_score_"
   ]
  },
  {
   "cell_type": "code",
   "execution_count": 18,
   "id": "667f4598",
   "metadata": {},
   "outputs": [
    {
     "data": {
      "text/plain": [
       "{'n_estimators': 1000,\n",
       " 'min_samples_split': 2,\n",
       " 'min_samples_leaf': 2,\n",
       " 'max_depth': None,\n",
       " 'criterion': 'entropy'}"
      ]
     },
     "execution_count": 18,
     "metadata": {},
     "output_type": "execute_result"
    }
   ],
   "source": [
    "rndm_srch.best_params_"
   ]
  },
  {
   "cell_type": "code",
   "execution_count": 14,
   "id": "3df65d03",
   "metadata": {},
   "outputs": [],
   "source": [
    "rf_params = {\"n_estimators\": [None] + list(range(100,500, 100)),\n",
    "    \"max_depth\":[26,30,28,None],\n",
    "    \"criterion\":[\"gini\", \"entropy\"],\n",
    "    }"
   ]
  },
  {
   "cell_type": "code",
   "execution_count": 15,
   "id": "0614f0bc",
   "metadata": {},
   "outputs": [],
   "source": [
    "grid_srch = GridSearchCV(RandomForestClassifier(),param_grid=rf_params, scoring=\"accuracy\", n_jobs=-1,\n",
    "                              cv=5, verbose=10)"
   ]
  },
  {
   "cell_type": "code",
   "execution_count": 16,
   "id": "6e8cb7fb",
   "metadata": {},
   "outputs": [
    {
     "name": "stdout",
     "output_type": "stream",
     "text": [
      "Fitting 5 folds for each of 40 candidates, totalling 200 fits\n"
     ]
    },
    {
     "name": "stderr",
     "output_type": "stream",
     "text": [
      "C:\\Users\\MOHAN\\anaconda3\\lib\\site-packages\\sklearn\\model_selection\\_search.py:918: UserWarning: One or more of the test scores are non-finite: [       nan 0.86278803 0.85842978 0.86133876 0.86423731        nan\n",
      " 0.84979668 0.85847148 0.86134918 0.85989991        nan 0.85848191\n",
      " 0.8584402  0.85411323 0.8627776         nan 0.85268481 0.85847148\n",
      " 0.86424773 0.86133876        nan 0.85842978 0.85987905 0.85123553\n",
      " 0.86133876        nan 0.86274632 0.85265353 0.85554165 0.86134918\n",
      "        nan 0.85847148 0.85988948 0.85699093 0.85989991        nan\n",
      " 0.85413408 0.86132833 0.86278803 0.85554165]\n",
      "  warnings.warn(\n"
     ]
    },
    {
     "data": {
      "text/plain": [
       "GridSearchCV(cv=5, estimator=RandomForestClassifier(), n_jobs=-1,\n",
       "             param_grid={'criterion': ['gini', 'entropy'],\n",
       "                         'max_depth': [26, 30, 28, None],\n",
       "                         'n_estimators': [None, 100, 200, 300, 400]},\n",
       "             scoring='accuracy', verbose=10)"
      ]
     },
     "execution_count": 16,
     "metadata": {},
     "output_type": "execute_result"
    }
   ],
   "source": [
    "grid_srch.fit(X, y)"
   ]
  },
  {
   "cell_type": "code",
   "execution_count": 18,
   "id": "90538a39",
   "metadata": {},
   "outputs": [
    {
     "data": {
      "text/plain": [
       "0.8642477322489835"
      ]
     },
     "execution_count": 18,
     "metadata": {},
     "output_type": "execute_result"
    }
   ],
   "source": [
    "grid_srch.best_score_"
   ]
  },
  {
   "cell_type": "code",
   "execution_count": 19,
   "id": "3a5dd05e",
   "metadata": {},
   "outputs": [
    {
     "data": {
      "text/plain": [
       "{'criterion': 'gini', 'max_depth': None, 'n_estimators': 300}"
      ]
     },
     "execution_count": 19,
     "metadata": {},
     "output_type": "execute_result"
    }
   ],
   "source": [
    "grid_srch.best_params_"
   ]
  },
  {
   "cell_type": "code",
   "execution_count": 20,
   "id": "d68a3df0",
   "metadata": {},
   "outputs": [],
   "source": [
    "grid_srch_params = {'criterion': 'gini', 'max_depth': None, 'n_estimators': 300}"
   ]
  },
  {
   "cell_type": "code",
   "execution_count": 21,
   "id": "a2db6c01",
   "metadata": {},
   "outputs": [],
   "source": [
    "random_srch_params = {'n_estimators': 100,\n",
    " 'min_samples_split': 4,\n",
    " 'min_samples_leaf': 3,\n",
    " 'max_depth': 26,\n",
    " 'criterion': 'entropy'}"
   ]
  },
  {
   "cell_type": "code",
   "execution_count": 22,
   "id": "6f53f73a",
   "metadata": {},
   "outputs": [],
   "source": [
    "def run_training(pred_df, fold, params):\n",
    "    \n",
    "    #spliting the data into train and validation set\n",
    "    train_df = pred_df[pred_df.kfold!=fold].reset_index(drop=True)\n",
    "    valid_df = pred_df[pred_df.kfold==fold].reset_index(drop=True)\n",
    "\n",
    "    X_train = train_df.drop([\"Loan_Status\"], axis=1).values\n",
    "    X_valid = valid_df.drop([\"Loan_Status\"], axis=1).values\n",
    "\n",
    "    rf = RandomForestClassifier(**params, n_jobs=-1)\n",
    "    rf.fit(X_train, train_df.Loan_Status.values)\n",
    "    \n",
    "    target = valid_df.Loan_Status.values\n",
    "    pred = rf.predict(X_valid)\n",
    "    \n",
    "    auc = roc_auc_score(target, pred)\n",
    "    acc = accuracy_score(target, pred)\n",
    "\n",
    "    return auc,acc"
   ]
  },
  {
   "cell_type": "code",
   "execution_count": 23,
   "id": "c1f0cceb",
   "metadata": {},
   "outputs": [],
   "source": [
    "def train(df, params):\n",
    "    aucs = []\n",
    "    accs = []\n",
    "    for i in range(5):\n",
    "        auc, acc = run_training(df, i, params)\n",
    "        aucs.append(auc)\n",
    "        accs.append(acc)\n",
    "    return aucs, accs"
   ]
  },
  {
   "cell_type": "code",
   "execution_count": 24,
   "id": "6dce0637",
   "metadata": {},
   "outputs": [],
   "source": [
    "grid_srch_res = train(train_df, grid_srch_params)"
   ]
  },
  {
   "cell_type": "code",
   "execution_count": 25,
   "id": "6dfb1057",
   "metadata": {},
   "outputs": [],
   "source": [
    "random_srch_res = train(train_df, random_srch_params)"
   ]
  },
  {
   "cell_type": "code",
   "execution_count": 27,
   "id": "6154c354",
   "metadata": {},
   "outputs": [
    {
     "name": "stdout",
     "output_type": "stream",
     "text": [
      "Hyperparameters by Grid Search:\n",
      "Accuracy = 0.858471483682619, ROC-AUC score = 0.858385093167702\n"
     ]
    }
   ],
   "source": [
    "print(\"Hyperparameters by Grid Search:\")\n",
    "print(f\"Accuracy = {np.mean(grid_srch_res[1])}, ROC-AUC score = {np.mean(grid_srch_res[0])}\")"
   ]
  },
  {
   "cell_type": "code",
   "execution_count": 28,
   "id": "101441f7",
   "metadata": {},
   "outputs": [
    {
     "name": "stdout",
     "output_type": "stream",
     "text": [
      "Hyperparameters by Random Search:\n",
      "Accuracy = 0.8526848086747993, ROC-AUC score = 0.8526501035196687\n"
     ]
    }
   ],
   "source": [
    "print(\"Hyperparameters by Random Search:\")\n",
    "print(f\"Accuracy = {np.mean(random_srch_res[1])}, ROC-AUC score = {np.mean(random_srch_res[0])}\")"
   ]
  },
  {
   "cell_type": "markdown",
   "id": "f608c7f3",
   "metadata": {},
   "source": [
    "#### Moving Ahead with Grid Search parameters"
   ]
  }
 ],
 "metadata": {
  "kernelspec": {
   "display_name": "Python 3",
   "language": "python",
   "name": "python3"
  },
  "language_info": {
   "codemirror_mode": {
    "name": "ipython",
    "version": 3
   },
   "file_extension": ".py",
   "mimetype": "text/x-python",
   "name": "python",
   "nbconvert_exporter": "python",
   "pygments_lexer": "ipython3",
   "version": "3.8.8"
  }
 },
 "nbformat": 4,
 "nbformat_minor": 5
}
